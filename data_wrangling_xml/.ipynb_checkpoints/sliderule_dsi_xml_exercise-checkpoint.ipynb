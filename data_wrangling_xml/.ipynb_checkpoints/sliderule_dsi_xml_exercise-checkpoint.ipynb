{
 "cells": [
  {
   "cell_type": "markdown",
   "metadata": {},
   "source": [
    "# XML example and exercise\n",
    "****\n",
    "+ study examples of accessing nodes in XML tree structure  \n",
    "+ work on exercise to be completed and submitted\n",
    "****\n",
    "+ reference: https://docs.python.org/2.7/library/xml.etree.elementtree.html\n",
    "+ data source: http://www.dbis.informatik.uni-goettingen.de/Mondial\n",
    "****"
   ]
  },
  {
   "cell_type": "code",
   "execution_count": 25,
   "metadata": {
    "collapsed": true
   },
   "outputs": [],
   "source": [
    "from xml.etree import ElementTree as ET\n",
    "import operator"
   ]
  },
  {
   "cell_type": "markdown",
   "metadata": {},
   "source": [
    "## XML example\n",
    "\n",
    "+ for details about tree traversal and iterators, see https://docs.python.org/2.7/library/xml.etree.elementtree.html"
   ]
  },
  {
   "cell_type": "code",
   "execution_count": 7,
   "metadata": {
    "collapsed": true
   },
   "outputs": [],
   "source": [
    "document_tree = ET.parse( './data/mondial_database_less.xml' )"
   ]
  },
  {
   "cell_type": "code",
   "execution_count": 13,
   "metadata": {
    "collapsed": false
   },
   "outputs": [
    {
     "name": "stdout",
     "output_type": "stream",
     "text": [
      "Albania\n",
      "Greece\n",
      "Macedonia\n",
      "Serbia\n",
      "Montenegro\n",
      "Kosovo\n",
      "Andorra\n"
     ]
    }
   ],
   "source": [
    "# print names of all countries\n",
    "for child in document_tree.getroot():\n",
    "    print (child.find('name').text)"
   ]
  },
  {
   "cell_type": "code",
   "execution_count": 14,
   "metadata": {
    "collapsed": false
   },
   "outputs": [
    {
     "name": "stdout",
     "output_type": "stream",
     "text": [
      "* Albania:\n",
      "Tirana, Shkodër, Durrës, Vlorë, Elbasan, Korçë\n",
      "* Greece:\n",
      "Komotini, Kavala, Athina, Peiraias, Peristeri, Acharnes, Patra, Kozani, Kerkyra, Ioannina, Thessaloniki, Iraklio, Chania, Ermoupoli, Rhodes, Tripoli, Lamia, Chalkida, Larissa, Volos, Mytilini, Karyes\n",
      "* Macedonia:\n",
      "Skopje, Kumanovo\n",
      "* Serbia:\n",
      "Beograd, Novi Sad, Niš\n",
      "* Montenegro:\n",
      "Podgorica\n",
      "* Kosovo:\n",
      "Prishtine\n",
      "* Andorra:\n",
      "Andorra la Vella\n"
     ]
    }
   ],
   "source": [
    "# print names of all countries and their cities\n",
    "for element in document_tree.iterfind('country'):\n",
    "    print ('* ' + element.find('name').text + ':',)\n",
    "    capitals_string = ''\n",
    "    for subelement in element.getiterator('city'):\n",
    "        capitals_string += subelement.find('name').text + ', '\n",
    "    print (capitals_string[:-2])"
   ]
  },
  {
   "cell_type": "markdown",
   "metadata": {},
   "source": [
    "****\n",
    "## XML exercise\n",
    "\n",
    "Using data in 'data/mondial_database.xml', the examples above, and refering to https://docs.python.org/2.7/library/xml.etree.elementtree.html, find\n",
    "\n",
    "1. 10 countries with the lowest infant mortality rates\n",
    "2. 10 cities with the largest population\n",
    "3. 10 ethnic groups with the largest overall populations (sum of best/latest estimates over all countries)\n",
    "4. name and country of a) longest river, b) largest lake and c) airport at highest elevation"
   ]
  },
  {
   "cell_type": "code",
   "execution_count": 17,
   "metadata": {
    "collapsed": true
   },
   "outputs": [],
   "source": [
    "document = ET.parse( './data/mondial_database.xml' )"
   ]
  },
  {
   "cell_type": "code",
   "execution_count": 15,
   "metadata": {
    "collapsed": false
   },
   "outputs": [
    {
     "name": "stdout",
     "output_type": "stream",
     "text": [
      "Albania\n",
      "Greece\n",
      "Macedonia\n",
      "Serbia\n",
      "Montenegro\n",
      "Kosovo\n",
      "Andorra\n"
     ]
    }
   ],
   "source": [
    "for childs in document_tree.getroot():\n",
    "    print (childs.find('name').text)"
   ]
  },
  {
   "cell_type": "code",
   "execution_count": null,
   "metadata": {
    "collapsed": true
   },
   "outputs": [],
   "source": []
  },
  {
   "cell_type": "markdown",
   "metadata": {},
   "source": [
    "# 10 countries with the lowest infant mortality rates"
   ]
  },
  {
   "cell_type": "code",
   "execution_count": 27,
   "metadata": {
    "collapsed": false
   },
   "outputs": [
    {
     "name": "stdout",
     "output_type": "stream",
     "text": [
      "[('Monaco', 1.81), ('Japan', 2.13), ('Norway', 2.48), ('Bermuda', 2.48), ('Singapore', 2.53), ('Sweden', 2.6), ('Czech Republic', 2.63), ('Hong Kong', 2.73), ('Macao', 3.13), ('Iceland', 3.15)]\n"
     ]
    }
   ],
   "source": [
    "infant_data = {}\n",
    "for country in document.iterfind('country'):\n",
    "    if country.find('infant_mortality') is None:\n",
    "        pass\n",
    "    else: \n",
    "        name = country.find('name').text\n",
    "        im = country.find('infant_mortality').text\n",
    "        infant_data[name] = float(im)\n",
    "sorted_dict = sorted(infant_data.items(), key=operator.itemgetter(1))\n",
    "print (sorted_dict[:10])"
   ]
  },
  {
   "cell_type": "code",
   "execution_count": null,
   "metadata": {
    "collapsed": true
   },
   "outputs": [],
   "source": []
  },
  {
   "cell_type": "markdown",
   "metadata": {},
   "source": []
  },
  {
   "cell_type": "code",
   "execution_count": 42,
   "metadata": {
    "collapsed": false
   },
   "outputs": [
    {
     "name": "stdout",
     "output_type": "stream",
     "text": [
      "[('China', 1242612226), ('United States', 281414181), ('Indonesia', 205132458), ('Brazil', 169799170), ('Russia', 146762881), ('Pakistan', 143832014), ('Japan', 125714674), ('Mexico', 97483412), ('Philippines', 76506928), ('Turkey', 67808719)]\n"
     ]
    }
   ],
   "source": [
    "popdata = {}\n",
    "for country in document.iterfind('country'):\n",
    "    if country.find(\"population[@year='2000']\") is None:\n",
    "        pass\n",
    "    else:\n",
    "        name = country.find('name').text\n",
    "        pop = country.find(\"population[@year='2000']\").text\n",
    "        popdata[name] = int(pop)\n",
    "sorted_dict = sorted(popdata.items(), key=operator.itemgetter(1), reverse=True)\n",
    "print(sorted_dict[:10])"
   ]
  },
  {
   "cell_type": "code",
   "execution_count": null,
   "metadata": {
    "collapsed": true
   },
   "outputs": [],
   "source": []
  },
  {
   "cell_type": "markdown",
   "metadata": {},
   "source": [
    "# 10 ethnic groups with the largest overall populations (sum of best/latest estimates over all countries)"
   ]
  },
  {
   "cell_type": "code",
   "execution_count": 49,
   "metadata": {
    "collapsed": false
   },
   "outputs": [
    {
     "data": {
      "text/plain": [
       "[(('China', 'Han Chinese'), 1245058800.0),\n",
       " (('India', 'Dravidian'), 302713744.25),\n",
       " (('United States', 'European'), 254958101.97759998),\n",
       " (('Nigeria', 'African'), 162651570.84),\n",
       " (('Bangladesh', 'Bengali'), 146776916.72),\n",
       " (('Japan', 'Japanese'), 126534212.00000001),\n",
       " (('Russia', 'Russian'), 114646210.938),\n",
       " (('Indonesia', 'Javanese'), 113456006.10000001),\n",
       " (('Brazil', 'European'), 108886717.794),\n",
       " (('Vietnam', 'Viet/Kinh'), 76078375.3)]"
      ]
     },
     "execution_count": 49,
     "metadata": {},
     "output_type": "execute_result"
    }
   ],
   "source": [
    "ethinicdata = {}\n",
    "for country in document.iterfind('country'):\n",
    "    if country.find('./ethnicgroup[1][@percentage]') is None:\n",
    "        pass\n",
    "    else:\n",
    "        lastpop = int(country.find('./population[last()]').text)\n",
    "        ethnic = country.find('./ethnicgroup[1]')\n",
    "        ethnicname = ethnic.text\n",
    "        ethicperc = float(ethnic.get('percentage'))/100\n",
    "        ethinicdata[country.find('name').text, ethnicname] = lastpop * ethicperc\n",
    "  \n",
    "sorted_dict = sorted(ethinicdata.items(), key=operator.itemgetter(1), reverse=True)\n",
    "sorted_d[:10]"
   ]
  },
  {
   "cell_type": "code",
   "execution_count": null,
   "metadata": {
    "collapsed": true
   },
   "outputs": [],
   "source": []
  },
  {
   "cell_type": "markdown",
   "metadata": {},
   "source": [
    "# name and country of  a) longest river"
   ]
  },
  {
   "cell_type": "code",
   "execution_count": 54,
   "metadata": {
    "collapsed": false
   },
   "outputs": [
    {
     "data": {
      "text/plain": [
       "[(('river-Amazonas', 'CO BR PE'), 6448.0)]"
      ]
     },
     "execution_count": 54,
     "metadata": {},
     "output_type": "execute_result"
    }
   ],
   "source": [
    "riverdata = {}\n",
    "for river in document.iterfind('river'):\n",
    "    name = river.get('id')\n",
    "    country = river.get('country')\n",
    "    length = river.find('./length')\n",
    "    if length is None:\n",
    "        pass\n",
    "    else:\n",
    "        #print(float(length.text))\n",
    "        riverdata[name, country]=float(length.text)\n",
    "    \n",
    "sorted_d = sorted(riverdata.items(), key=operator.itemgetter(1), reverse=True)\n",
    "sorted_d[:1]"
   ]
  },
  {
   "cell_type": "code",
   "execution_count": null,
   "metadata": {
    "collapsed": true
   },
   "outputs": [],
   "source": []
  },
  {
   "cell_type": "markdown",
   "metadata": {},
   "source": [
    "# b) largest lake"
   ]
  },
  {
   "cell_type": "code",
   "execution_count": 56,
   "metadata": {
    "collapsed": false
   },
   "outputs": [
    {
     "data": {
      "text/plain": [
       "[(('lake-KaspischesMeer', 'R AZ KAZ IR TM'), 386400.0)]"
      ]
     },
     "execution_count": 56,
     "metadata": {},
     "output_type": "execute_result"
    }
   ],
   "source": [
    "lakedata = {}\n",
    "for lake in document.iterfind('lake'):\n",
    "    name = lake.get('id')\n",
    "    country = lake.get('country')\n",
    "    area = lake.find('./area')\n",
    "    if area is None:\n",
    "        pass\n",
    "    else:\n",
    "        #print float(area.text)\n",
    "        lakedata[name, country]=float(area.text)\n",
    "\n",
    "sorted_d = sorted(lakedata.items(), key=operator.itemgetter(1), reverse=True)\n",
    "sorted_d[:1]\n"
   ]
  },
  {
   "cell_type": "code",
   "execution_count": null,
   "metadata": {
    "collapsed": true
   },
   "outputs": [],
   "source": []
  },
  {
   "cell_type": "markdown",
   "metadata": {},
   "source": [
    "# c) airport at highest elevation"
   ]
  },
  {
   "cell_type": "code",
   "execution_count": 61,
   "metadata": {
    "collapsed": false
   },
   "outputs": [
    {
     "data": {
      "text/plain": [
       "[(('LPB', 'BOL'), 4063.0)]"
      ]
     },
     "execution_count": 61,
     "metadata": {},
     "output_type": "execute_result"
    }
   ],
   "source": [
    "airportdata = {}\n",
    "for airport in document.iterfind('airport'):\n",
    "    name = airport.get('iatacode')\n",
    "    country = airport.get('country')\n",
    "    elevation = airport.findtext('./elevation')\n",
    "    if elevation is None:\n",
    "        pass\n",
    "    elif elevation=='':\n",
    "        pass\n",
    "    else:\n",
    "        #print(float(elevation))\n",
    "        airportdata[name, country]=float(elevation)\n",
    "\n",
    "sorted_d = sorted(airportdata.items(), key=operator.itemgetter(1), reverse=True)\n",
    "sorted_d[:1]    \n"
   ]
  },
  {
   "cell_type": "code",
   "execution_count": null,
   "metadata": {
    "collapsed": true
   },
   "outputs": [],
   "source": []
  }
 ],
 "metadata": {
  "kernelspec": {
   "display_name": "Python 3",
   "language": "python",
   "name": "python3"
  },
  "language_info": {
   "codemirror_mode": {
    "name": "ipython",
    "version": 3
   },
   "file_extension": ".py",
   "mimetype": "text/x-python",
   "name": "python",
   "nbconvert_exporter": "python",
   "pygments_lexer": "ipython3",
   "version": "3.6.0"
  }
 },
 "nbformat": 4,
 "nbformat_minor": 0
}
